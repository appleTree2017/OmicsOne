{
 "cells": [
  {
   "cell_type": "code",
   "execution_count": 1,
   "metadata": {
    "ExecuteTime": {
     "end_time": "2021-07-19T19:14:49.062532Z",
     "start_time": "2021-07-19T19:14:48.458587Z"
    }
   },
   "outputs": [
    {
     "data": {
      "text/html": [
       "<button onclick=\"$('.input, .prompt, .output_stderr, .output_error').toggle();\">Toggle Code</button>"
      ]
     },
     "metadata": {},
     "output_type": "display_data"
    }
   ],
   "source": [
    "%load_ext autoreload\n",
    "%autoreload 2\n",
    "%matplotlib inline\n",
    "\n",
    "from IPython.display import display_html\n",
    "display_html(\"\"\"<button onclick=\"$('.input, .prompt, .output_stderr, .output_error').toggle();\">Toggle Code</button>\"\"\", raw=True)"
   ]
  },
  {
   "cell_type": "code",
   "execution_count": 2,
   "metadata": {
    "ExecuteTime": {
     "end_time": "2021-07-19T19:14:49.940582Z",
     "start_time": "2021-07-19T19:14:49.067503Z"
    }
   },
   "outputs": [],
   "source": [
    "import sys,re,os\n",
    "import numpy as np\n",
    "import pandas as pd"
   ]
  },
  {
   "cell_type": "code",
   "execution_count": 3,
   "metadata": {
    "ExecuteTime": {
     "end_time": "2021-07-19T19:14:50.018072Z",
     "start_time": "2021-07-19T19:14:49.944567Z"
    }
   },
   "outputs": [],
   "source": [
    "src_dir = r\"C:\\Users\\yingwei\\Documents\\GitHub\\OmicsOne\\dist\\history\"\n",
    "sys.path.append(src_dir)"
   ]
  },
  {
   "cell_type": "code",
   "execution_count": 4,
   "metadata": {
    "ExecuteTime": {
     "end_time": "2021-07-19T19:14:50.191607Z",
     "start_time": "2021-07-19T19:14:50.021064Z"
    }
   },
   "outputs": [
    {
     "ename": "ModuleNotFoundError",
     "evalue": "No module named 'omicsdiscoverer.main'",
     "output_type": "error",
     "traceback": [
      "\u001b[1;31m---------------------------------------------------------------------------\u001b[0m",
      "\u001b[1;31mModuleNotFoundError\u001b[0m                       Traceback (most recent call last)",
      "\u001b[1;32m<ipython-input-4-aa153369b89e>\u001b[0m in \u001b[0;36m<module>\u001b[1;34m\u001b[0m\n\u001b[1;32m----> 1\u001b[1;33m \u001b[1;32mfrom\u001b[0m \u001b[0momicsdiscoverer\u001b[0m\u001b[1;33m.\u001b[0m\u001b[0mmain\u001b[0m \u001b[1;32mimport\u001b[0m \u001b[0mtoolkit\u001b[0m\u001b[1;33m\u001b[0m\u001b[1;33m\u001b[0m\u001b[0m\n\u001b[0m\u001b[0;32m      2\u001b[0m \u001b[1;32mfrom\u001b[0m \u001b[0momicsdiscoverer\u001b[0m\u001b[1;33m.\u001b[0m\u001b[0mui\u001b[0m \u001b[1;32mimport\u001b[0m \u001b[0mUITranseffect\u001b[0m\u001b[1;33m\u001b[0m\u001b[1;33m\u001b[0m\u001b[0m\n",
      "\u001b[1;31mModuleNotFoundError\u001b[0m: No module named 'omicsdiscoverer.main'"
     ]
    }
   ],
   "source": [
    "from omicsdiscoverer.main import toolkit\n",
    "from omicsdiscoverer.ui import UITranseffect"
   ]
  },
  {
   "cell_type": "markdown",
   "metadata": {},
   "source": [
    "# This is a demo, the data is not real here!"
   ]
  },
  {
   "cell_type": "code",
   "execution_count": null,
   "metadata": {
    "ExecuteTime": {
     "end_time": "2021-07-19T19:14:50.195594Z",
     "start_time": "2021-07-19T19:14:48.471Z"
    },
    "scrolled": false
   },
   "outputs": [],
   "source": [
    "toolkit([UITranseffect])"
   ]
  },
  {
   "cell_type": "code",
   "execution_count": null,
   "metadata": {},
   "outputs": [],
   "source": []
  }
 ],
 "metadata": {
  "kernelspec": {
   "display_name": "Python 3",
   "language": "python",
   "name": "python3"
  },
  "language_info": {
   "codemirror_mode": {
    "name": "ipython",
    "version": 3
   },
   "file_extension": ".py",
   "mimetype": "text/x-python",
   "name": "python",
   "nbconvert_exporter": "python",
   "pygments_lexer": "ipython3",
   "version": "3.7.6"
  },
  "toc": {
   "base_numbering": 1,
   "nav_menu": {},
   "number_sections": true,
   "sideBar": true,
   "skip_h1_title": false,
   "title_cell": "Table of Contents",
   "title_sidebar": "Contents",
   "toc_cell": false,
   "toc_position": {},
   "toc_section_display": true,
   "toc_window_display": false
  }
 },
 "nbformat": 4,
 "nbformat_minor": 2
}
